{
  "cells": [
    {
      "cell_type": "raw",
      "metadata": {},
      "source": [
        "---\n",
        "output: html_document\n",
        "editor_options: \n",
        "  chunk_output_type: console\n",
        "---"
      ],
      "id": "712b5cb8"
    },
    {
      "cell_type": "markdown",
      "metadata": {},
      "source": [
        "# Processamento e visualização de dados\n",
        "\n",
        "::: {.callout-caution title=\"Notice!\"}\n",
        "Chapter to be translated!\n",
        ":::\n",
        "\n",
        "## Instalação de bibliotecas\n",
        "\n",
        "A instalação de bibliotecas em Python é essencial para expandir a funcionalidade da linguagem. Existem várias maneiras de instalar bibliotecas, mas a mais comum é usando um gerenciador de pacotes. O pip é o gerenciador de pacotes padrão para Python e geralmente acompanha a instalação do Python.\n",
        "\n",
        "Para instalar uma biblioteca com pip, abra o terminal ou prompt de comando e digite o seguinte comando:\n"
      ],
      "id": "914ec140"
    },
    {
      "cell_type": "code",
      "metadata": {},
      "source": [
        "#| eval: false\n",
        "pip install nome_da_biblioteca"
      ],
      "id": "7bfed7de",
      "execution_count": null,
      "outputs": []
    },
    {
      "cell_type": "markdown",
      "metadata": {},
      "source": [
        "Substitua nome_da_biblioteca pelo nome da biblioteca que você deseja instalar.\n",
        "\n",
        "## Processamento de dados numéricos\n",
        "\n",
        "O `NumPy` (Numerical Python) é uma biblioteca essencial para computação numérica em Python. Ele fornece estruturas de dados eficientes para trabalhar com arrays multidimensionais e funções matemáticas poderosas para manipulação de dados.\n",
        "\n",
        "Para instalar o NumPy, você pode usar o pip, que é o gerenciador de pacotes padrão do Python:\n"
      ],
      "id": "c04896c8"
    },
    {
      "cell_type": "code",
      "metadata": {},
      "source": [
        "#| eval: false\n",
        "pip install numpy"
      ],
      "id": "37f9d19b",
      "execution_count": null,
      "outputs": []
    },
    {
      "cell_type": "markdown",
      "metadata": {},
      "source": [
        "O principal objeto em `NumPy` é o array multidimensional. Você pode criar arrays `NumPy` usando a função `numpy.array()` e realizar operações matemáticas básicas com eles:\n"
      ],
      "id": "db024402"
    },
    {
      "cell_type": "code",
      "metadata": {},
      "source": [
        "import numpy as np\n",
        "\n",
        "# Criando um array NumPy\n",
        "arr = np.array([1, 2, 3, 4, 5])\n",
        "\n",
        "# Operações matemáticas básicas\n",
        "print(\"Soma:\", np.sum(arr))\n",
        "print(\"Média:\", np.mean(arr))"
      ],
      "id": "9402dfcc",
      "execution_count": null,
      "outputs": []
    },
    {
      "cell_type": "markdown",
      "metadata": {},
      "source": [
        "Além das operações básicas, o NumPy oferece funções universais (`ufuncs`) para aplicar operações em todos os elementos de um array de uma vez:\n"
      ],
      "id": "fee67a2b"
    },
    {
      "cell_type": "code",
      "metadata": {},
      "source": [
        "# Funções universais (ufuncs)\n",
        "arr = np.array([1, 2, 3, 4, 5])\n",
        "print(\"Quadrado de cada elemento:\", np.square(arr))\n",
        "print(\"Exponencial de cada elemento:\", np.exp(arr))"
      ],
      "id": "f684e6cb",
      "execution_count": null,
      "outputs": []
    },
    {
      "cell_type": "markdown",
      "metadata": {},
      "source": [
        "A seguir, apresentamos três exemplos práticos de utilização das funções do `NumPy`.\n",
        "\n",
        "**Exemplo 1: Cálculo de Estatísticas Descritivas**\n",
        "\n",
        "O `NumPy` pode ser usado para calcular estatísticas descritivas, como média, mediana, desvio padrão, mínimo e máximo de séries temporais de dados econômicos, como o preço das ações de uma empresa ao longo do tempo.\n"
      ],
      "id": "e45cd36b"
    },
    {
      "cell_type": "code",
      "metadata": {},
      "source": [
        "import numpy as np\n",
        "\n",
        "# Preço das ações de uma empresa ao longo do tempo (em dólares)\n",
        "precos = np.array([100, 102, 105, 110, 108, 115, 120])\n",
        "\n",
        "# Calculando estatísticas descritivas\n",
        "print(\"Média:\", np.mean(precos))\n",
        "print(\"Desvio padrão:\", np.std(precos))\n",
        "print(\"Máximo:\", np.max(precos))\n",
        "print(\"Mínimo:\", np.min(precos))"
      ],
      "id": "f165498c",
      "execution_count": null,
      "outputs": []
    },
    {
      "cell_type": "markdown",
      "metadata": {},
      "source": [
        "**Exemplo 2: Análise de Séries Temporais** O `NumPy` é útil para manipulação e análise de séries temporais. Por exemplo, você pode usar `NumPy` para calcular a taxa de retorno de um investimento ao longo do tempo ou para suavizar uma série temporal usando médias móveis.\n"
      ],
      "id": "52342f10"
    },
    {
      "cell_type": "code",
      "metadata": {},
      "source": [
        "precos = np.array([100, 102, 105, 110, 108, 115, 120])\n",
        "# Calcular a taxa de retorno de um investimento ao longo do tempo\n",
        "retornos = np.diff(precos) / precos[:-1] * 100\n",
        "print(\"Taxa de retorno:\", retornos)"
      ],
      "id": "effbc118",
      "execution_count": null,
      "outputs": []
    },
    {
      "cell_type": "markdown",
      "metadata": {},
      "source": [
        "::: callout-tip\n",
        "A função np.diff em NumPy é usada para calcular a diferença entre elementos consecutivos ao longo de um determinado eixo de um array. *Atenção*: O tamanho do retorno da função np.diff será sempre menor que o tamanho do vetor original de entrada por um elemento. Por exemplo, se tivermos um vetor unidimensional com $n$ elementos, a função np.diff retornará um vetor com $n−1$ elementos, pois não há diferença para o último elemento.\n",
        ":::\n"
      ],
      "id": "93d6c5f6"
    },
    {
      "cell_type": "code",
      "metadata": {},
      "source": [
        "precos = np.array([100, 102, 105, 110, 108, 115, 120])\n",
        "# Suavizar uma série temporal usando médias móveis\n",
        "tamanho_janela = 3\n",
        "media_movel = np.convolve(precos, np.ones(tamanho_janela) / tamanho_janela, mode='valid')\n",
        "print(\"Médias móveis:\", media_movel)"
      ],
      "id": "efbd1949",
      "execution_count": null,
      "outputs": []
    },
    {
      "cell_type": "markdown",
      "metadata": {},
      "source": [
        "::: callout-tip\n",
        "A função `np.convolve` em `NumPy` é usada para realizar a convolução entre duas sequências, representadas por dois vetores unidimensionais. A convolução é uma operação matemática que combina duas funções para produzir uma terceira função que representa a quantidade de sobreposição entre elas conforme uma delas é deslocada ao longo do eixo.\n",
        "\n",
        "A sintaxe básica da função é `np.convolve(a, b, mode='full')`, onde `a` e `b` são os dois vetores unidimensionais a serem convolvidos e `mode` é um parâmetro opcional que define o modo de convolução. Os modos mais comuns são:\n",
        "\n",
        "-   `'full'`: Retorna a saída completa da convolução. O comprimento do resultado será `len(a) + len(b) - 1`.\n",
        "-   `'valid'`: Retorna apenas pontos onde as sequências se sobrepõem completamente. O comprimento do resultado será `max(len(a), len(b)) - min(len(a), len(b)) + 1`.\n",
        "-   `'same'`: Retorna a saída do mesmo tamanho que o vetor de entrada mais longo. O comprimento do resultado será `max(len(a), len(b))`.\n",
        "\n",
        "No exemplo anterior, a função `np.convolve` foi usada aqui para calcular a média móvel dos preços. Nesse caso, a primeira sequência é o vetor de preços e a segunda sequência é um vetor de 1s dividido pelo tamanho da janela de média móvel. Isso cria uma sequência que representa uma média ponderada dos valores.\n",
        ":::\n",
        "\n",
        "**Exemplo 3: Simulação Monte Carlo** O NumPy pode ser usado para realizar simulações Monte Carlo, que são amplamente utilizadas na modelagem financeira e na avaliação de risco. Por exemplo, você pode simular o desempenho de uma carteira de investimentos ao longo do tempo sob diferentes cenários de mercado.\n"
      ],
      "id": "a7f126ff"
    },
    {
      "cell_type": "code",
      "metadata": {},
      "source": [
        "# Simulação Monte Carlo do desempenho de uma carteira de investimentos\n",
        "num_simulacoes = 1000\n",
        "num_anos = 10\n",
        "retorno_medio = 0.08\n",
        "volatilidade = 0.15\n",
        "\n",
        "# Gerar retornos aleatórios usando uma distribuição normal\n",
        "retornos = np.random.normal(retorno_medio, volatilidade, size=(num_simulacoes, num_anos))\n",
        "\n",
        "# Calcular o valor final da carteira para cada simulação\n",
        "investimento_inicial = 10000\n",
        "valores_finais = investimento_inicial * np.cumprod(1 + retornos, axis=1)\n",
        "\n",
        "# Estatísticas descritivas dos valores finais da carteira\n",
        "print(\"Valor final médio:\", np.mean(valores_finais[:,-1]))\n",
        "print(\"Desvio padrão dos valores finais:\", np.std(valores_finais[:,-1]))"
      ],
      "id": "cfd6c14d",
      "execution_count": null,
      "outputs": []
    },
    {
      "cell_type": "markdown",
      "metadata": {},
      "source": [
        "Mais referências sobre `NumPy`:\n",
        "\n",
        "-   **Documentação oficial do NumPy:** <https://numpy.org/doc/stable/> A documentação oficial do NumPy contém informações detalhadas sobre todas as funções e métodos disponíveis, além de tutoriais e exemplos.\n",
        "\n",
        "-   **NumPy Quickstart Tutorial:** <https://numpy.org/doc/stable/user/quickstart.html> Este tutorial rápido fornece uma introdução rápida ao NumPy e suas funcionalidades básicas.\n",
        "\n",
        "## Análise e processamento de dados\n",
        "\n",
        "O pandas é uma biblioteca de código aberto amplamente utilizada em Python para análise e manipulação de dados. Ele fornece estruturas de dados flexíveis e ferramentas poderosas para trabalhar com dados estruturados, facilitando a análise, limpeza e preparação de dados para diversas aplicações, como ciência de dados, finanças, pesquisa acadêmica e muito mais.\n",
        "\n",
        "## O que é pandas?\n",
        "\n",
        "Pandas é uma biblioteca Python de código aberto que oferece estruturas de dados de alto desempenho e ferramentas de análise de dados. O pandas foi projetado para lidar com as complexidades do mundo real em análise de dados, oferecendo uma interface simples e intuitiva para trabalhar com dados tabulares.\n",
        "\n",
        "Pandas é amplamente utilizado em análise de dados devido à sua capacidade de:\n",
        "\n",
        "-   Importar e exportar dados de uma variedade de fontes, incluindo arquivos CSV, Excel, SQL, JSON, HDF5 e mais.\n",
        "-   Manipular dados de forma eficiente, incluindo indexação, filtragem, agregação e limpeza.\n",
        "-   Realizar operações estatísticas e matemáticas em dados, como média, soma, desvio padrão, correlação, etc.\n",
        "\n",
        "As duas principais estruturas de dados fornecidas pelo pandas são series e dataframes.\n",
        "\n",
        "### Séries\n",
        "\n",
        "Uma `Serie` é uma estrutura de dados unidimensional que pode conter qualquer tipo de dados, como inteiros, floats, strings, entre outros. Cada elemento em uma Série possui um rótulo único chamado de índice. A Série é semelhante a uma lista ou array unidimensional em Python, mas fornece recursos adicionais, como operações vetorizadas e alinhamento automático de dados com base nos rótulos de índice.\n",
        "\n",
        "Suponha que temos uma Série representando os preços diários de uma ação:\n",
        "\n",
        "| Data       | Preço |\n",
        "|------------|-------|\n",
        "| 2024-03-18 | 100   |\n",
        "| 2024-03-19 | 105   |\n",
        "| 2024-03-20 | 98    |\n",
        "| 2024-03-21 | 102   |\n",
        "\n",
        "Podemos criar uma Serie pandas para representar esses dados:\n"
      ],
      "id": "5d7c7064"
    },
    {
      "cell_type": "code",
      "metadata": {},
      "source": [
        "import pandas as pd\n",
        "\n",
        "# Dados dos preços da ação\n",
        "data = ['2024-03-18', '2024-03-19', '2024-03-20', '2024-03-21']\n",
        "precos = [100, 105, 98, 102]\n",
        "\n",
        "# Criando uma Série pandas\n",
        "serie_precos_acao = pd.Series(precos, index=pd.to_datetime(data), name='Preço da Ação')\n",
        "print(serie_precos_acao)"
      ],
      "id": "805b6fd7",
      "execution_count": null,
      "outputs": []
    },
    {
      "cell_type": "markdown",
      "metadata": {},
      "source": [
        "### DataFrame\n",
        "\n",
        "DataFrame é uma estrutura de dados bidimensional semelhante a uma tabela de banco de dados ou uma planilha do Excel. Ele é composto por linhas e colunas, onde cada coluna pode conter um tipo de dado diferente. Cada coluna e linha em um DataFrame possui um rótulo exclusivo chamado de índice e nome, respectivamente. O DataFrame permite realizar uma ampla gama de operações de manipulação e análise de dados, como indexação, filtragem, agregação, limpeza, entre outras.\n",
        "\n",
        "Suponha que temos um DataFrame representando os preços diários de várias ações. Podemos criar um DataFrame pandas para representar esses dados. Veja no exemplo abaixo.\n"
      ],
      "id": "6dd1fccc"
    },
    {
      "cell_type": "code",
      "metadata": {},
      "source": [
        "import pandas as pd\n",
        "import numpy as np\n",
        "\n",
        "# Dados dos preços das ações\n",
        "data = ['2024-03-18', '2024-03-19', '2024-03-20', '2024-03-21']\n",
        "precos_acoes = {\n",
        "    'Ação 1': [100, 105, np.nan, 102],\n",
        "    'Ação 2': [50, 52, 48, 49],\n",
        "    'Ação 3': [75, np.nan, 72, 74]\n",
        "}\n",
        "\n",
        "# Criando um DataFrame pandas\n",
        "df_precos_acoes = pd.DataFrame(precos_acoes, index=pd.to_datetime(data))\n",
        "print(df_precos_acoes)"
      ],
      "id": "b7f96623",
      "execution_count": null,
      "outputs": []
    },
    {
      "cell_type": "markdown",
      "metadata": {},
      "source": [
        "### Principais funcionalidades\n",
        "\n",
        "A função `df.isna()` é uma função fornecida pelo pandas em um DataFrame (df) que retorna uma matriz booleana indicando se cada elemento do DataFrame é um valor ausente (NaN).\n",
        "\n",
        "Quando aplicada a um DataFrame, a função `isna()` retorna um DataFrame com o mesmo formato, onde cada valor é substituído por `True` se for `NaN` e `False` caso contrário.\n",
        "\n",
        "Isso é útil para identificar rapidamente os valores ausentes em um DataFrame e realizar operações de limpeza ou tratamento de dados, como preenchimento de valores ausentes ou remoção de linhas ou colunas contendo esses valores.\n",
        "\n",
        "Se aplicarmos `df_precos_acoes.isna()`, obteremos:\n"
      ],
      "id": "8da56bda"
    },
    {
      "cell_type": "code",
      "metadata": {},
      "source": [
        "df_precos_acoes.isna()"
      ],
      "id": "f8487450",
      "execution_count": null,
      "outputs": []
    },
    {
      "cell_type": "markdown",
      "metadata": {},
      "source": [
        "Para contar a quantidade de `NaN` em cada coluna, combine `is.na()` com `sum()`:\n"
      ],
      "id": "4811c4aa"
    },
    {
      "cell_type": "code",
      "metadata": {},
      "source": [
        "df_precos_acoes.isna().sum()"
      ],
      "id": "8f7911ff",
      "execution_count": null,
      "outputs": []
    },
    {
      "cell_type": "markdown",
      "metadata": {},
      "source": [
        "O método `dropna()` no pandas é usado para remover linhas ou colunas que contenham valores ausentes (NaN).\n"
      ],
      "id": "057745dd"
    },
    {
      "cell_type": "code",
      "metadata": {},
      "source": [
        "df_precos_acoes.dropna()"
      ],
      "id": "5d1adadb",
      "execution_count": null,
      "outputs": []
    },
    {
      "cell_type": "markdown",
      "metadata": {},
      "source": [
        "O parâmetro subset é usado para especificar em quais colunas ou linhas o pandas deve procurar por valores ausentes antes de remover. Quando usamos `df.dropna(subset=[\"Ação 3\"])`, estamos instruindo o pandas a remover todas as linhas onde houver um valor ausente na coluna \"Ação 3\".\n"
      ],
      "id": "0da46e2b"
    },
    {
      "cell_type": "code",
      "metadata": {},
      "source": [
        "df_precos_acoes.dropna(subset=[\"Ação 3\"])"
      ],
      "id": "d12bbeaa",
      "execution_count": null,
      "outputs": []
    },
    {
      "cell_type": "markdown",
      "metadata": {},
      "source": [
        "Na função `dropna()`, o parâmetro `inplace=True` especifica que a modificação deve ser feita diretamente no DataFrame original, em vez de retornar um novo DataFrame sem os valores ausentes. Quando `inplace=True` é usado com dropna(), o DataFrame original é modificado e as linhas ou colunas com valores ausentes são removidas permanentemente.\n"
      ],
      "id": "47ff9c28"
    },
    {
      "cell_type": "code",
      "metadata": {},
      "source": [
        "df_precos_acoes.dropna(inplace = True)"
      ],
      "id": "da56dfa7",
      "execution_count": null,
      "outputs": []
    },
    {
      "cell_type": "markdown",
      "metadata": {},
      "source": [
        "A função `fillna()` no pandas é usada para preencher valores ausentes (NaN) em um DataFrame com um valor específico.\n",
        "\n",
        "Considere o seguinte DataFrame `df` que representa os dados de clientes de um banco com alguns dados faltantes:\n"
      ],
      "id": "1e728bcd"
    },
    {
      "cell_type": "code",
      "metadata": {},
      "source": [
        "import pandas as pd\n",
        "import numpy as np\n",
        "\n",
        "dados = {'Nome': ['João', 'Maria', 'Pedro', 'Ana', 'Mariana'],\n",
        "        'Idade': [25, 30, np.nan, 40, 35],\n",
        "        'Renda Mensal': [5000, 6000, np.nan, 4500, 5500],\n",
        "        'Limite de Crédito': [10000, np.nan, 8000, 12000, np.nan]}\n",
        "df_clientes = pd.DataFrame(dados)"
      ],
      "id": "c9db3826",
      "execution_count": null,
      "outputs": []
    },
    {
      "cell_type": "markdown",
      "metadata": {},
      "source": [
        "Neste exemplo,\n",
        "\n",
        "-   Os valores ausentes na coluna \"Idade\" foram preenchidos com a mediana das idades existentes no DataFrame.\n",
        "-   Os valores ausentes na coluna \"Limite de Crédito\" foram preenchidos com a moda dos limites de crédito existentes no DataFrame.\n",
        "-   Os valores ausentes na coluna \"Renda Mensal\" foram preenchidos com a média das rendas mensais existentes no DataFrame.\n"
      ],
      "id": "3cd47add"
    },
    {
      "cell_type": "code",
      "metadata": {},
      "source": [
        "# Preenchendo valores ausentes na coluna 'Idade' com a mediana das idades\n",
        "df_clientes['Idade'] = df_clientes['Idade'].fillna(df_clientes['Idade'].median())\n",
        "\n",
        "# Preenchendo valores ausentes na coluna 'Limite de Crédito' com a moda dos limites de crédito\n",
        "df_clientes['Limite de Crédito'] = df_clientes['Limite de Crédito'].fillna(df_clientes['Limite de Crédito'].mode()[0])\n",
        "\n",
        "# Preenchendo valores ausentes na coluna 'Renda Mensal' com a média das rendas mensais\n",
        "df_clientes['Renda Mensal'] = df_clientes['Renda Mensal'].fillna(df_clientes['Renda Mensal'].mean())\n",
        "\n",
        "df_clientes"
      ],
      "id": "7fbdbd0f",
      "execution_count": null,
      "outputs": []
    },
    {
      "cell_type": "markdown",
      "metadata": {},
      "source": [
        "Agora, vamos carregar os dados `gapminder`, que está no arquivo `gapminder.zip`.\n"
      ],
      "id": "3df43275"
    },
    {
      "cell_type": "code",
      "metadata": {},
      "source": [
        "gapminder = pd.read_csv(\"data/gapminder.zip\", sep = \"\\t\")"
      ],
      "id": "d72eaea3",
      "execution_count": null,
      "outputs": []
    },
    {
      "cell_type": "markdown",
      "metadata": {},
      "source": [
        "A função head() é usada para visualizar as primeiras linhas do conjunto de dados gapminder, oferecendo uma rápida visão geral da sua estrutura e conteúdo.\n"
      ],
      "id": "89b333d6"
    },
    {
      "cell_type": "code",
      "metadata": {},
      "source": [
        "gapminder.head()"
      ],
      "id": "de75a038",
      "execution_count": null,
      "outputs": []
    },
    {
      "cell_type": "markdown",
      "metadata": {},
      "source": [
        "O método info() fornece informações sobre o conjunto de dados, incluindo o número de entradas, o tipo de dados de cada coluna e se há valores nulos.\n"
      ],
      "id": "96788fc8"
    },
    {
      "cell_type": "code",
      "metadata": {},
      "source": [
        "gapminder.info()"
      ],
      "id": "7f30281a",
      "execution_count": null,
      "outputs": []
    },
    {
      "cell_type": "markdown",
      "metadata": {},
      "source": [
        "A função describe() gera estatísticas descritivas para cada coluna numérica do conjunto de dados, como contagem, média, desvio padrão, mínimo e máximo.\n"
      ],
      "id": "ded7e64d"
    },
    {
      "cell_type": "code",
      "metadata": {},
      "source": [
        "gapminder.describe()"
      ],
      "id": "9d6d552a",
      "execution_count": null,
      "outputs": []
    },
    {
      "cell_type": "markdown",
      "metadata": {},
      "source": [
        "A função `value_counts()` conta o número de ocorrências de cada categoria na coluna \"continent\" do conjunto de dados gapminder, transforma os resultados em um DataFrame, renomeia as colunas para \"continent\" e \"n\" (indicando a contagem), e reconfigura o índice.\n"
      ],
      "id": "c2898b11"
    },
    {
      "cell_type": "code",
      "metadata": {},
      "source": [
        "gapminder.value_counts(\"continent\").to_frame(\"n\").reset_index()"
      ],
      "id": "0735e39b",
      "execution_count": null,
      "outputs": []
    },
    {
      "cell_type": "markdown",
      "metadata": {},
      "source": [
        "No trecho abaixo, fazemos uma contagem de valores para as combinações únicas de categorias nas colunas \"continent\" e \"year\" do DataFrame gapminder. Os resultados são transformados em um DataFrame, renomeados como \"continent\", \"year\" e \"n\" (indicando a contagem), e o índice é reconfigurado.\n"
      ],
      "id": "ee4210ed"
    },
    {
      "cell_type": "code",
      "metadata": {},
      "source": [
        "gapminder.value_counts([\"continent\", \"year\"]).to_frame(\"n\").reset_index()"
      ],
      "id": "571ca52e",
      "execution_count": null,
      "outputs": []
    },
    {
      "cell_type": "markdown",
      "metadata": {},
      "source": [
        "## Dados organizados (tidy data)\n",
        "\n",
        "Todas as tabelas abaixo tem o mesmo dado (foram tiradas do pacote `tidyr` do R), que mostra a quantidade de casos de uma doença e a população total de alguns países.\n"
      ],
      "id": "1ccc59a3"
    },
    {
      "cell_type": "code",
      "metadata": {},
      "source": [
        "table1 = pd.read_csv(\"data/table1.csv\")\n",
        "table2 = pd.read_csv(\"data/table2.csv\")\n",
        "table3 = pd.read_csv(\"data/table3.csv\")\n",
        "table4a = pd.read_csv(\"data/table4a.csv\")\n",
        "table4b = pd.read_csv(\"data/table4b.csv\")"
      ],
      "id": "1fec6133",
      "execution_count": null,
      "outputs": []
    },
    {
      "cell_type": "code",
      "metadata": {},
      "source": [
        "table1"
      ],
      "id": "f90a85b1",
      "execution_count": null,
      "outputs": []
    },
    {
      "cell_type": "code",
      "metadata": {},
      "source": [
        "table2"
      ],
      "id": "3b94be85",
      "execution_count": null,
      "outputs": []
    },
    {
      "cell_type": "code",
      "metadata": {},
      "source": [
        "table3"
      ],
      "id": "c706238e",
      "execution_count": null,
      "outputs": []
    },
    {
      "cell_type": "code",
      "metadata": {},
      "source": [
        "table4a"
      ],
      "id": "c1cf72ca",
      "execution_count": null,
      "outputs": []
    },
    {
      "cell_type": "code",
      "metadata": {},
      "source": [
        "table4b"
      ],
      "id": "7333e446",
      "execution_count": null,
      "outputs": []
    },
    {
      "cell_type": "markdown",
      "metadata": {},
      "source": [
        "O exemplo abaixo cria uma nova coluna chamada rate no DataFrame `table1.` A função `assign` adiciona uma nova coluna ao DataFrame, enquanto a expressão `lambda` calcula os valores para essa nova coluna.\n"
      ],
      "id": "8af98565"
    },
    {
      "cell_type": "code",
      "metadata": {},
      "source": [
        "table1.assign(rate = lambda _: 10000 * (_.cases / _.population))"
      ],
      "id": "86331e72",
      "execution_count": null,
      "outputs": []
    },
    {
      "cell_type": "markdown",
      "metadata": {},
      "source": [
        "No exemplo abaixo, agrupamos os dados do DataFrame `table1` pela coluna \"year\" (ano) e depois calcula a soma dos casos para cada ano. O método `groupby(\"year\")` agrupa os dados por ano, criando grupos separados para cada ano. `as_index = False` especifica que a coluna usada para agrupamento (\"year\") não deve ser definida como índice no DataFrame resultante. O método `agg` é usado para realizar uma operação de agregação nos grupos. Aqui, np.sum é usado para calcular a soma dos valores da coluna \"cases\" para cada grupo.\n"
      ],
      "id": "ddd996d4"
    },
    {
      "cell_type": "code",
      "metadata": {},
      "source": [
        "#| warning: false\n",
        "(table1.groupby(\"year\", as_index = False)\n",
        "       .agg(total_cases = (\"cases\", np.sum)))"
      ],
      "id": "2078e99b",
      "execution_count": null,
      "outputs": []
    },
    {
      "cell_type": "markdown",
      "metadata": {},
      "source": [
        "Para fazer o mesmo com os dados da table1, temos que usar a função `pivot_table`:\n"
      ],
      "id": "a564ac9b"
    },
    {
      "cell_type": "code",
      "metadata": {},
      "source": [
        "#| warning: false\n",
        "table2_tidy = (table2.pivot_table(index = [\"country\", \"year\"], columns = \"type\", values = \"count\")\n",
        "               .reset_index()\n",
        "               .rename_axis(None, axis = 1))\n",
        "\n",
        "table2_tidy.assign(rate = lambda _: 10000 * (_.cases / _.population))"
      ],
      "id": "f2a6e8fa",
      "execution_count": null,
      "outputs": []
    },
    {
      "cell_type": "markdown",
      "metadata": {},
      "source": [
        "No exemplo acima, usamos o método `pivot_table` do pandas para reorganizar os dados do DataFrame `table2`. Ele reorganiza os dados de forma que os valores da coluna \"count\" sejam pivotados (transformados em colunas) com base nos valores únicos da combinação de \"country\" e \"year\". Os parâmetros index, columns e values especificam respectivamente as colunas que serão usadas como índice, as que serão transformadas em colunas e os valores a serem preenchidos na tabela pivô. Após a operação de pivotagem, são encadeados métodos adicionais para modificar a estrutura do DataFrame resultante:\n",
        "\n",
        "-   `reset_index()` redefine os índices do DataFrame para índices numéricos padrão, movendo os índices anteriores (no caso, \"country\" e \"year\") para colunas.\n",
        "-   `rename_axis(None, axis=1)` remove os nomes dos índices das colunas, substituindo-os por None. Isso é feito especificamente para limpar os nomes das colunas do DataFrame.\n",
        "\n",
        "Após a transformação dos dados, a função `assign` é usada para criar uma nova coluna chamada `rate` no DataFrame resultante `table2_tidy`.\n",
        "\n",
        "Agora, vamos fazer o mesmo para a `table4a` e `table4b`:\n"
      ],
      "id": "10544137"
    },
    {
      "cell_type": "code",
      "metadata": {},
      "source": [
        "#| warning: false\n",
        "table4_tidy = (table4a.melt(id_vars = \"country\", value_vars = [\"1999\", \"2000\"], var_name = \"year\", value_name = \"cases\")\n",
        "                .merge(table4b.melt(id_vars = \"country\", value_vars = [\"1999\", \"2000\"], var_name = \"year\", value_name = \"population\"),\n",
        "                       on = (\"country\", \"year\")))\n",
        "\n",
        "table4_tidy.assign(rate = lambda _: 10000 * (_.cases / _.population))"
      ],
      "id": "faf7396f",
      "execution_count": null,
      "outputs": []
    },
    {
      "cell_type": "markdown",
      "metadata": {},
      "source": [
        "Os DataFrames `table4a` e `table4b` são derretidos usando o método `melt`:\n",
        "\n",
        "-   Para `table4a`, as colunas que permanecerão fixas são especificadas através do argumento id_vars = \"country\", enquanto as colunas \"1999\" e \"2000\" são derretidas como variáveis usando value_vars = \\[\"1999\", \"2000\"\\]. Os nomes das variáveis derretidas são renomeadas para \"year\" e \"cases\" usando var_name = \"year\" e value_name = \"cases\", respectivamente.\n",
        "\n",
        "-   Da mesma forma, para `table4b`, as colunas \"country\" e \"1999\", \"2000\" são derretidas, com os nomes das variáveis renomeadas para \"year\" e \"population\", respectivamente.\n",
        "\n",
        "Os DataFrames resultantes do derretimento de table4a e table4b são mesclados usando o método merge. A mesclagem é feita com base nas colunas \"country\" e \"year\", garantindo que os dados correspondentes de table4a e table4b sejam combinados corretamente.\n",
        "\n",
        "Finalmente, o método `assign` é usado para criar uma nova coluna chamada \"rate\", que representa a taxa de casos por 10.000 habitantes.\n",
        "\n",
        "Para a `table3`, basta separar a coluna `cases` considerando o separador `\\`:\n"
      ],
      "id": "32d33167"
    },
    {
      "cell_type": "code",
      "metadata": {},
      "source": [
        "#| warning: false\n",
        "print(table3)\n",
        "\n",
        "table3_tidy = (table3.assign(cases = lambda _: _.rate.str.split(\"/\", expand = True)[0].astype(int),\n",
        "                       population = lambda _: _.rate.str.split(\"/\",  expand = True)[1].astype(int))\n",
        "               .drop(\"rate\", axis = 1))\n",
        "\n",
        "table3_tidy\n",
        "\n",
        "table3_tidy.assign(rate = lambda _: 10000 * (_.cases / _.population))"
      ],
      "id": "6679b696",
      "execution_count": null,
      "outputs": []
    },
    {
      "cell_type": "markdown",
      "metadata": {},
      "source": [
        "O parâmetro `expand` é utilizado no método`str.split()` para especificar se o resultado da divisão deve ser expandido em um DataFrame (se True) ou mantido como uma lista de valores (se False, que é o padrão).\n",
        "\n",
        "Principais funcionaldiades - ver aulas paulo\n",
        "\n",
        "<!-- aulas 4, 5 (data wrangling) e 6 (missing data) -->\n",
        "\n",
        "## Visualização de dados\n",
        "\n",
        "Duas bibliotecas amplamente utilizadas para visualização em Python são o `Matplotlib` e o `Plotnine.` O `Matplotlib` oferece uma ampla gama de opções para criar visualizações estáticas, desde gráficos simples até gráficos complexos e personalizados. Por outro lado, o `Plotnine` é uma biblioteca baseada na gramática de gráficos (parecido com o `ggplot2` do R), o que facilita a criação de visualizações elegantes e concisas usando uma sintaxe intuitiva e expressiva.\n",
        "\n",
        "### Matplotlib\n",
        "\n",
        "Antes de começarmos a criar visualizações, é importante entender alguns conceitos básicos do Matplotlib:\n",
        "\n",
        "-   **Figura e Eixo (Axes)**: No Matplotlib, uma figura é a janela ou página na qual tudo é desenhado. Dentro de uma figura, pode haver vários eixos (ou subplots), onde os dados são efetivamente plotados.\n",
        "\n",
        "-   **Método plot()**: O método plot() é usado para criar gráficos de linha, pontos ou marcadores. Ele aceita uma variedade de argumentos para personalizar a aparência do gráfico, como cor, estilo de linha, largura da linha, etc.\n",
        "\n",
        "-   **Customização**: O Matplotlib oferece muitas opções de personalização para ajustar a aparência dos gráficos, incluindo a adição de rótulos aos eixos, título do gráfico, legendas, entre outros.\n",
        "\n",
        "Agora, vamos ver um exemplo de como criar um gráfico de pontos usando dados fictícios, onde cada unidade de dado está relacionada a uma empresa.\n"
      ],
      "id": "5357d3c5"
    },
    {
      "cell_type": "code",
      "metadata": {},
      "source": [
        "#| warning: false\n",
        "import matplotlib.pyplot as plt\n",
        "\n",
        "# Dados de exemplo: Nome das empresas, receita e número de funcionários\n",
        "empresas = ['A', 'B', 'C', 'D', 'E']\n",
        "receita = [200, 300, 400, 250, 350]  # em milhões de reais\n",
        "funcionarios = [1000, 1200, 1500, 900, 1100]\n",
        "\n",
        "# Criando o gráfico de pontos\n",
        "plt.figure(figsize=(8, 6))\n",
        "plt.scatter(receita, funcionarios, color='blue', marker='o')\n",
        "\n",
        "# Adicionando rótulos e título\n",
        "plt.xlabel('Receita (em milhões de reais)')\n",
        "plt.ylabel('Número de Funcionários')\n",
        "plt.title('Receita vs. Número de Funcionários')\n",
        "\n",
        "# Adicionando anotações para cada ponto\n",
        "for i in range(len(empresas)):\n",
        "    plt.annotate(empresas[i], (receita[i], funcionarios[i]))\n",
        "\n",
        "# Exibindo o gráfico\n",
        "plt.grid(True)\n",
        "plt.show()"
      ],
      "id": "28e29cb1",
      "execution_count": null,
      "outputs": []
    },
    {
      "cell_type": "markdown",
      "metadata": {},
      "source": [
        "Neste exemplo, cada ponto no gráfico representa uma empresa, onde o eixo x representa a receita (em milhões de reais) e o eixo y representa o número de funcionários. As anotações são usadas para identificar cada empresa no gráfico.\n",
        "\n",
        "Na sequência, utilizamos o Matplotlib para criar um gráfico de linha que representa a evolução das vendas de dois produtos ao longo de vários anos. Cada ponto no gráfico representa o número de vendas em um ano específico.\n"
      ],
      "id": "84f36151"
    },
    {
      "cell_type": "code",
      "metadata": {},
      "source": [
        "#| warning: false\n",
        "import matplotlib.pyplot as plt\n",
        "\n",
        "# Dados de exemplo: Anos e vendas de produtos\n",
        "anos = [2010, 2011, 2012, 2013, 2014, 2015, 2016]\n",
        "vendas_produto_A = [500, 600, 550, 700, 800, 750, 900]\n",
        "vendas_produto_B = [400, 450, 500, 550, 600, 650, 700]\n",
        "\n",
        "# Criando o gráfico de linha\n",
        "plt.figure(figsize=(10, 6))\n",
        "plt.plot(anos, vendas_produto_A, marker='o', label='Produto A')\n",
        "plt.plot(anos, vendas_produto_B, marker='s', label='Produto B')\n",
        "\n",
        "# Adicionando rótulos e título\n",
        "plt.xlabel('Ano')\n",
        "plt.ylabel('Vendas')\n",
        "plt.title('Vendas ao longo do tempo')\n",
        "\n",
        "# Adicionando legenda\n",
        "plt.legend()\n",
        "\n",
        "# Exibindo o gráfico\n",
        "plt.grid(True)\n",
        "plt.show()"
      ],
      "id": "f4e5dc0a",
      "execution_count": null,
      "outputs": []
    },
    {
      "cell_type": "markdown",
      "metadata": {},
      "source": [
        "### Plotnine\n",
        "\n",
        "Plotnine é uma biblioteca em Python que permite criar visualizações de dados estatísticos de uma forma simples e concisa, utilizando a gramática de gráficos do R (também conhecida como ggplot2). Essa gramática consiste em uma abordagem declarativa para a construção de gráficos, onde os elementos visuais são adicionados em camadas para formar o gráfico final.\n"
      ],
      "id": "7723a143"
    },
    {
      "cell_type": "code",
      "metadata": {},
      "source": [
        "#| warning: false\n",
        "#| eval: false\n",
        "from plotnine import *"
      ],
      "id": "42da2b4e",
      "execution_count": null,
      "outputs": []
    },
    {
      "cell_type": "markdown",
      "metadata": {},
      "source": [
        "Para exemplificar, vamos utilizar a base de dados `gapminder`.\n"
      ],
      "id": "fb50fbc6"
    },
    {
      "cell_type": "code",
      "metadata": {},
      "source": [
        "#| warning: false\n",
        "#| eval: false\n",
        "((ggplot(gapminder, aes(x = \"continent\", fill = \"continent\")) +\n",
        "     geom_bar(aes(y = \"stat(count) / 12\"), alpha = 0.75) +\n",
        "     labs(x = \"\", y = \"Number of countries\", title = \"Continents\") +\n",
        "     theme(legend_position = \"none\") +\n",
        "     coord_flip()+\n",
        "     theme_bw())\n",
        "     .show())"
      ],
      "id": "7f246416",
      "execution_count": null,
      "outputs": []
    },
    {
      "cell_type": "code",
      "metadata": {},
      "source": [
        "#| warning: false\n",
        "#| eval: false\n",
        "((ggplot(gapminder, aes(x = \"lifeExp\", y = \"stat(density)\")) +\n",
        "     geom_histogram(fill = \"blue\", color = \"white\", alpha = 0.5) +\n",
        "     labs(x = \"Life Expectancy\", y = \"\", title = \"Gapminder\"))\n",
        "     .show())"
      ],
      "id": "1994a7c4",
      "execution_count": null,
      "outputs": []
    },
    {
      "cell_type": "code",
      "metadata": {},
      "source": [
        "#| warning: false\n",
        "#| eval: false\n",
        "((ggplot(gapminder, aes(x = \"lifeExp\", y = \"stat(density)\")) +\n",
        "     geom_histogram(fill = \"blue\", color = \"white\", alpha = 0.5) +\n",
        "     labs(x = \"Life Expectancy\", y = \"\", title = \"Gapminder\") +\n",
        "     facet_wrap(\"~ continent\", nrow = 1) +\n",
        "     theme(figure_size = (12, 2))).\n",
        "     show)"
      ],
      "id": "5d3fdc10",
      "execution_count": null,
      "outputs": []
    },
    {
      "cell_type": "code",
      "metadata": {},
      "source": [
        "#| warning: false\n",
        "#| eval: false\n",
        "((gapminder.groupby([\"continent\", \"year\"], as_index = False)\n",
        "      .agg(median_lifeExp = (\"lifeExp\", np.median))\n",
        "      .pipe(lambda _: ggplot(_, aes(x = \"year\", y = \"median_lifeExp\", color = \"continent\")) +\n",
        "                          geom_line(size = 0.75) +\n",
        "                          geom_point(size = 1.5) +\n",
        "                          labs(x = \"Year\", y = \"Median Life Expectancy\", color = \"Continent\", title = \"Gapminder\")))\n",
        "                          .show())"
      ],
      "id": "786dac59",
      "execution_count": null,
      "outputs": []
    },
    {
      "cell_type": "markdown",
      "metadata": {},
      "source": [
        "<!-- ## Análise de Dados Avançada -->\n",
        "\n",
        "<!-- ### Caso 1: Visualizando dados `NumPy` com `Matplotlib` {.unnumbered} -->\n",
        "\n",
        "<!-- O objetivo deste exemplo é demonstrar como usar NumPy e Matplotlib em conjunto para analisar dados econômicos simulados. Leia o código abaixo e tente entender o que está sendo feito. -->\n"
      ],
      "id": "f80efa74"
    },
    {
      "cell_type": "code",
      "metadata": {},
      "source": [
        "#| warning: false\n",
        "#| include: false\n",
        "import numpy as np\n",
        "import matplotlib.pyplot as plt\n",
        "import pandas as pd\n",
        "\n",
        "# Gerando dados aleatórios para simular valores de PIB\n",
        "np.random.seed(42)\n",
        "pib = np.random.normal(500, 100, 100)  # Simulando 100 valores de PIB\n",
        "\n",
        "# Calculando média, mediana e desvio padrão do PIB\n",
        "media_pib = np.mean(pib)\n",
        "mediana_pib = np.median(pib)\n",
        "desvio_padrao_pib = np.std(pib)\n",
        "\n",
        "print(\"Média do PIB:\", media_pib)\n",
        "print(\"Mediana do PIB:\", mediana_pib)\n",
        "print(\"Desvio padrão do PIB:\", desvio_padrao_pib)\n",
        "\n",
        "# Plotando um histograma dos valores do PIB\n",
        "plt.hist(pib, bins=10, color='skyblue', edgecolor='black')\n",
        "plt.title('Distribuição do PIB')\n",
        "plt.xlabel('PIB')\n",
        "plt.ylabel('Frequência')\n",
        "plt.show()"
      ],
      "id": "64f24bc5",
      "execution_count": null,
      "outputs": []
    },
    {
      "cell_type": "markdown",
      "metadata": {},
      "source": [
        "<!-- No exemplo acima, começamos gerando dados aleatórios para simular valores de PIB usando a distribuição normal com uma média de 500 e um desvio padrão de 100. Em seguida, calculamos a média, a mediana e o desvio padrão desses valores usando funções NumPy. Para facilitar a visualização e análise dos dados, plotamos um histograma usando Matplotlib. Este histograma nos permite visualizar a distribuição dos valores do PIB e identificar tendências ou padrões nos dados. -->\n",
        "\n",
        "<!-- ### Caso 2: Gapminder {.unnumbered} -->\n",
        "\n",
        "<!-- O objetivo deste exemplo é demonstrar como usar Pandas, NumPy e Matplotlib em conjunto para realizar análises exploratórias de dados do Gapminder. -->\n"
      ],
      "id": "669e80af"
    },
    {
      "cell_type": "code",
      "metadata": {},
      "source": [
        "#| warning: false\n",
        "#| eval: false\n",
        "#| include: false\n",
        "import pandas as pd\n",
        "import numpy as np\n",
        "import matplotlib.pyplot as plt\n",
        "\n",
        "# Calcular a média da expectativa de vida usando NumPy\n",
        "mean_life_expectancy = np.mean(gapminder['lifeExp'])\n",
        "\n",
        "# Calcular a mediana do PIB per capita usando NumPy\n",
        "median_gdp_per_capita = np.median(gapminder['gdpPercap'])\n",
        "\n",
        "# Plotar um histograma da expectativa de vida usando Matplotlib\n",
        "plt.hist(gapminder['lifeExp'], bins=20, color='skyblue', edgecolor='black')\n",
        "plt.axvline(mean_life_expectancy, color='red', linestyle='dashed', linewidth=1)\n",
        "plt.text(mean_life_expectancy + 1, 50, f'Média: {mean_life_expectancy:.2f}', color='red')\n",
        "plt.xlabel('Expectativa de Vida')\n",
        "plt.ylabel('Frequência')\n",
        "plt.title('Distribuição da Expectativa de Vida')\n",
        "plt.show()\n",
        "\n",
        "# Plotar um gráfico de dispersão entre expectativa de vida e PIB per capita usando Matplotlib\n",
        "plt.scatter(gapminder['gdpPercap'], gapminder['lifeExp'], alpha=0.5)\n",
        "plt.axhline(mean_life_expectancy, color='red', linestyle='dashed', linewidth=1)\n",
        "plt.axvline(median_gdp_per_capita, color='green', linestyle='dashed', linewidth=1)\n",
        "plt.text(median_gdp_per_capita + 500, mean_life_expectancy + 1, f'Mediana: {median_gdp_per_capita:.2f}', color='green')\n",
        "plt.xlabel('PIB per Capita')\n",
        "plt.ylabel('Expectativa de Vida')\n",
        "plt.title('PIB per Capita vs Expectativa de Vida')\n",
        "plt.show()"
      ],
      "id": "2b17407a",
      "execution_count": null,
      "outputs": []
    },
    {
      "cell_type": "markdown",
      "metadata": {},
      "source": [
        "<!-- No código acima, começamos carregando os dados do Gapminder usando a função pd.read_csv() do Pandas. Em seguida, calculamos a média da expectativa de vida e a mediana do PIB per capita usando funções NumPy np.mean() e np.median(), respectivamente. Para visualizar a distribuição da expectativa de vida, plotamos um histograma usando a função plt.hist() do Matplotlib. -->\n",
        "\n",
        "<!-- ## Exercícios -->"
      ],
      "id": "6b9fd7d1"
    }
  ],
  "metadata": {
    "kernelspec": {
      "display_name": "Python 3",
      "language": "python",
      "name": "python3"
    }
  },
  "nbformat": 4,
  "nbformat_minor": 5
}